{
 "cells": [
  {
   "cell_type": "code",
   "execution_count": null,
   "source": [
    "import numpy as np\n",
    "import matplotlib.pyplot as plt\n",
    "from proofreader.utils.io import read_cremi_volume, from_h5\n",
    "%load_ext autoreload\n",
    "%autoreload 2"
   ],
   "outputs": [],
   "metadata": {}
  },
  {
   "cell_type": "code",
   "execution_count": null,
   "source": [
    "import matplotlib.pyplot as plt\n",
    "import IPython\n",
    "\n",
    "def view_volume(volume, fig_size=6.5):\n",
    "    length = volume.shape[0]\n",
    "\n",
    "    # set up\n",
    "    fig = plt.figure()\n",
    "    fig.set_size_inches(fig_size, fig_size)\n",
    "    axes = fig.add_subplot()\n",
    "    hfig = display(fig, display_id=True)\n",
    "\n",
    "    # display\n",
    "    for i in range(length):\n",
    "        axes.imshow(volume[i], cmap='gray', interpolation='none',\n",
    "                    filternorm=False, resample=False)\n",
    "        fig.canvas.draw()\n",
    "        hfig.update(fig)\n",
    "        if i != length-1:\n",
    "            plt.cla()\n",
    "    # clean up\n",
    "    IPython.display.clear_output()\n"
   ],
   "outputs": [],
   "metadata": {}
  },
  {
   "cell_type": "code",
   "execution_count": 276,
   "source": [
    "trueA = read_cremi_volume('A',seg=True, path='../../dataset/cremi')\n",
    "trueB = read_cremi_volume('B',seg=True, path='../../dataset/cremi')\n",
    "trueC = read_cremi_volume('C',seg=True, path='../../dataset/cremi')"
   ],
   "outputs": [],
   "metadata": {}
  },
  {
   "cell_type": "code",
   "execution_count": 277,
   "source": [
    "import cc3d\n",
    "\n",
    "# Clean C\n",
    "# some slices are totally mislabeled\n",
    "def clean_true_c(vol):\n",
    "    assert vol.shape[0] == 125, 'vol may have already been cleaned'\n",
    "    return np.delete(vol, [14,74], 0)\n",
    "\n",
    "trueC = clean_true_c(trueC)\n",
    "print(trueC.shape)\n",
    "# some neurites of same label are not connected\n",
    "trueC = cc3d.connected_components(trueC)\n"
   ],
   "outputs": [
    {
     "output_type": "stream",
     "name": "stdout",
     "text": [
      "(123, 1250, 1250)\n"
     ]
    }
   ],
   "metadata": {}
  },
  {
   "cell_type": "code",
   "execution_count": 278,
   "source": [
    "trueA = cc3d.connected_components(trueA)"
   ],
   "outputs": [],
   "metadata": {}
  },
  {
   "cell_type": "code",
   "execution_count": 279,
   "source": [
    "def get_classes_sorted_by_volume(vol, reverse=False, return_counts=False):\n",
    "\n",
    "    classes, counts = np.unique(vol, return_counts=True)\n",
    "\n",
    "    sort_indices = np.argsort(counts)\n",
    "    if reverse:\n",
    "        sort_indices = np.flip(sort_indices)\n",
    "    classes = classes[sort_indices]\n",
    "    if return_counts:\n",
    "        counts = counts[sort_indices]\n",
    "        return classes, counts\n",
    "    return classes"
   ],
   "outputs": [],
   "metadata": {}
  },
  {
   "cell_type": "code",
   "execution_count": 280,
   "source": [
    "import random\n",
    "import numpy as np\n",
    "\n",
    "def sample_square_radius(vol, radius):\n",
    "    dims = len(vol.shape)\n",
    "    if type(radius) != tuple:\n",
    "        radius = (radius,)*dims\n",
    "    assert dims == len(radius), 'radius must be specified for each dim of input, or be scalar'\n",
    "\n",
    "    sample_slice = []\n",
    "    for d in range(dims):\n",
    "        r = radius[d]\n",
    "        s = vol.shape[d]\n",
    "        x = random.randint(r, s-r)\n",
    "        sample_slice.append(slice(x-r,x+r))\n",
    "    sample_slice = tuple(sample_slice)\n",
    "    return vol[sample_slice]\n"
   ],
   "outputs": [],
   "metadata": {}
  },
  {
   "cell_type": "code",
   "execution_count": 281,
   "source": [
    "def get_classes_which_zspan_at_least(vol, num_slices):\n",
    "    counts = {}\n",
    "    for i in range(vol.shape[0]):\n",
    "        slice = vol[i]\n",
    "        classes = np.unique(slice)\n",
    "        for c in classes:\n",
    "            if c in counts:\n",
    "                 counts[c] += 1\n",
    "            else:\n",
    "                counts[c] = 0\n",
    "    res = []\n",
    "    for c, cnt in counts.items():\n",
    "        if cnt >= num_slices + 2:\n",
    "            res.append(c)\n",
    "    \n",
    "    return res\n",
    "   "
   ],
   "outputs": [],
   "metadata": {}
  },
  {
   "cell_type": "code",
   "execution_count": 282,
   "source": [
    "import random\n",
    "import math\n",
    "import cc3d\n",
    "from proofreader.utils.all import list_remove\n",
    "from proofreader.utils.data import arg_where_range, circular_mask, crop_where\n",
    "from proofreader.utils.vis import view_segmentation, grid_volume\n",
    "from skimage.color import label2rgb\n",
    "from skimage.segmentation import find_boundaries\n",
    "import time\n",
    "\n",
    "# c:int, label of a neurite in vol to use as source\n",
    "# example_type:bool True for positive example, False for negative example\n",
    "# radius:int radius (voxels) on bottom cross section in which to select second neurite\n",
    "# num_slices:int number of slices to drop\n",
    "# context_slices:int  max number of slice on top and bottom neurites\n",
    "def example_from_class(vol, c, example_type, num_slices, radius, context_slices = 10):\n",
    "\n",
    "    margin = 1 # number of slices that must be left on top after droping slices\n",
    "    top_c = c\n",
    "    (sz, sy, sx) = vol.shape\n",
    "\n",
    "    # Find min and max z slice on which c occurs #\n",
    "    for i in range(sz):\n",
    "        if c in vol[i]:\n",
    "            zmin = i\n",
    "            break\n",
    "    for i in reversed(range(sz)):\n",
    "        if c in vol[i]:\n",
    "            zmax = i\n",
    "            break\n",
    "    assert zmax - zmin >= num_slices + 2 , f'zspan of neurite must be at least 2 slices bigger than num_slices to drop, zspan:{zmax - zmin}, num_slices:{num_slices}'\n",
    "    # the drop can start at the end of the top nerutie for negative examples\n",
    "    # but should start earlier such that there is some bottom fragment for postive examples\n",
    "    z_max_range = zmax-margin-num_slices+1 if example_type else zmax+1\n",
    "    drop_start = random.randint(zmin+margin, z_max_range) # margin not needed on bottom\n",
    "    drop_start = z_max_range\n",
    "    drop_end = min(drop_start+num_slices, vol.shape[0]-1) # take min to ensure there is some bottom vol\n",
    "    top_z_len = min(context_slices, drop_start-zmin) \n",
    "    bot_z_len = min(context_slices, sz-drop_end) \n",
    "    \n",
    "    print('zmin, zmax: ', zmin, zmax)\n",
    "    print('top_c', top_c)\n",
    "    print('drop range: ', drop_start, drop_end )\n",
    "    print('top, bot z_len: ', top_z_len, bot_z_len )\n",
    "\n",
    "    # Alloc final vol, we dont know how large it will be in y and x but we know max z #\n",
    "    mz = num_slices + top_z_len + bot_z_len\n",
    "    final_vol = np.zeros((mz, sy, sx), dtype='uint')\n",
    "\n",
    "    # Build top section #\n",
    "    top_vol_section = final_vol[0:top_z_len]\n",
    "    top_vol_section[vol[drop_start-top_z_len:drop_start] == top_c] = top_c\n",
    "\n",
    "    # Do connected component relabeling to ensure only one fragment on top #\n",
    "    top_vol_section_relabeled = cc3d.connected_components(top_vol_section)\n",
    "    top_classes_relabeled = list(np.unique(top_vol_section_relabeled[-1])) # must select from top border slice\n",
    "    top_classes_relabeled = list_remove(top_classes_relabeled, 0)\n",
    "    relabeled_top_c = random.choice(top_classes_relabeled) # select new top class from relabeled top section\n",
    "    top_vol_section_relabeled[top_vol_section_relabeled != relabeled_top_c] = 0\n",
    "\n",
    "    # Get midpoint of neurite on 2D top cross section, #\n",
    "    top_border = top_vol_section_relabeled[-1]\n",
    "    mins, maxs = arg_where_range(top_border == relabeled_top_c) # use the relabeled top section\n",
    "    mp_y, mp_x = [(mi+ma)//2 for mi,ma in zip(mins,maxs)] # midpoint\n",
    "\n",
    "    # Find all neurites with distnce D from that point on bottom cross section #\n",
    "    bot_border = vol[drop_end].copy() # need copy because we zero\n",
    "    mask = circular_mask(bot_border.shape[0], bot_border.shape[1], center=(mp_x, mp_y), radius=radius)\n",
    "    bot_border[~mask] = 0\n",
    "    mismatch_classes = list(np.unique(bot_border))\n",
    "\n",
    "    # For positive examples, simply set bottom class to top class #\n",
    "    if example_type:\n",
    "        bot_c = top_c\n",
    "    else:\n",
    "    # Other wise select bottom class by picking 1 neurite from set of labels in radius #\n",
    "        assert mismatch_classes[0] == 0, 'first class should be 0, otherwise something went wrong'\n",
    "        mismatch_classes = list_remove(mismatch_classes, [0, top_c]) # remove 0 and top class lables\n",
    "        if len(mismatch_classes) == 0:\n",
    "            print(f'for {example_type} example, could not find bottom label within radius, returning none')\n",
    "            return None\n",
    "        # maybe could select here based on on cross-sectional volume\n",
    "        bot_c = random.choice(mismatch_classes) # select bottom neurite class\n",
    "\n",
    "    print('top_c, bot_c', top_c, bot_c)\n",
    "\n",
    "    # Build bot section #\n",
    "    bot_vol_section = final_vol[num_slices+top_z_len:]\n",
    "    bot_vol_section[vol[drop_end:drop_end+bot_z_len] == bot_c] = bot_c\n",
    "\n",
    "    # Do connected component relabeling to ensure only one fragment on bottom #\n",
    "    # The mask and radius are needed for both positive and negative examples #\n",
    "    # So that after connected components we can pick a fragment near the top neurite #\n",
    "    bot_vol_section_relabeled = cc3d.connected_components(bot_vol_section)\n",
    "    bot_border_relabled = bot_vol_section_relabeled[0]\n",
    "    relabeled_fragments_in_radius = list(np.unique(bot_border_relabled[mask]))\n",
    "    relabeled_fragments_in_radius = list_remove(relabeled_fragments_in_radius, 0)\n",
    "    if len(relabeled_fragments_in_radius) == 0:\n",
    "        print(f'for {example_type} example, could not find bottom label within radius, returning none')\n",
    "        return None\n",
    "    relabeled_bot_c = random.choice(relabeled_fragments_in_radius) # take fragment which is in radius\n",
    "    bot_vol_section_relabeled[bot_vol_section_relabeled != relabeled_bot_c] = 0\n",
    "\n",
    "\n",
    "    # Build final volume of top and bottom sections #\n",
    "    final_vol[0:top_z_len] = top_vol_section_relabeled\n",
    "    final_vol[num_slices+top_z_len:] = bot_vol_section_relabeled\n",
    "    \n",
    "    # Take surfaces of vols and final connected components sanity check #\n",
    "    # final_vol = find_boundaries(final_vol, mode='inner').astype(np.uint8)\n",
    "    # final_vol = cc3d.connected_components(final_vol)\n",
    "    # assert len(np.unique(final_vol)) == 3, 'final sample should have 3 labels, n1, n2, 0'\n",
    "\n",
    "    return final_vol\n"
   ],
   "outputs": [],
   "metadata": {}
  },
  {
   "cell_type": "code",
   "execution_count": 150,
   "source": [
    "num_slices = 3\n",
    "classes = get_classes_which_zspan_at_least(trueC, num_slices)\n",
    "print(f'{len(classes)}/{len(np.unique(trueC))}')"
   ],
   "outputs": [
    {
     "output_type": "stream",
     "name": "stdout",
     "text": [
      "872/1978\n"
     ]
    }
   ],
   "metadata": {}
  },
  {
   "cell_type": "code",
   "execution_count": 222,
   "source": [
    "c = random.choice(list(classes))\n",
    "example = example_from_class(vol, c, example_type=True, num_slices=num_slices, radius=32)"
   ],
   "outputs": [
    {
     "output_type": "stream",
     "name": "stdout",
     "text": [
      "zmin, zmax:  75 83\n",
      "top_c 11513\n",
      "drop range:  80 83\n",
      "top, bot z_len:  5 10\n",
      "(5, 1250, 1250)\n",
      "(5, 1250, 1250)\n",
      "top_c, bot_c 11513 11513\n"
     ]
    }
   ],
   "metadata": {}
  },
  {
   "cell_type": "code",
   "execution_count": 223,
   "source": [
    "example = crop_where(example, example != 0)\n",
    "example = cc3d.connected_components(example)\n",
    "assert len(np.unique(example)) == 3, 'final sample should have 3 labels, n1, n2, 0'\n",
    "grid_volume(label2rgb(example, bg_label=0),sz=20)"
   ],
   "outputs": [
    {
     "output_type": "display_data",
     "data": {
      "text/plain": [
       "<Figure size 1440x1440 with 9 Axes>"
      ],
      "image/png": "[encoded data removed]"
     },
     "metadata": {
      "needs_background": "light"
     }
    }
   ],
   "metadata": {}
  },
  {
   "cell_type": "code",
   "execution_count": 283,
   "source": [
    "def test_success(vol, c, num_slices, radius, context_slices=10):\n",
    "\n",
    "    margin = 1 # number of slices that must be left on top after droping slices\n",
    "    top_c = c\n",
    "    (sz, sy, sx) = vol.shape\n",
    "\n",
    "    # Find min and max z slice on which c occurs #\n",
    "    for i in range(sz):\n",
    "        if c in vol[i]:\n",
    "            zmin = i\n",
    "            break\n",
    "    for i in reversed(range(sz)):\n",
    "        if c in vol[i]:\n",
    "            zmax = i\n",
    "            break\n",
    "    assert zmax - zmin >= num_slices + 2 , f'zspan of neurite must be at least 2 slices bigger than num_slices to drop, zspan:{zmax - zmin}, num_slices:{num_slices}'\n",
    "    # the drop can start at the end of the top nerutie for negative examples\n",
    "    # but should start earlier such that there is some bottom fragment for postive examples\n",
    "    z_max_range = zmax-margin-num_slices+1\n",
    "    drop_start = random.randint(zmin+margin, z_max_range) # margin not needed on bottom\n",
    "    drop_start = z_max_range\n",
    "    drop_end = min(drop_start+num_slices, vol.shape[0]-1) # take min to ensure there is some bottom vol\n",
    "    top_z_len = min(context_slices, drop_start-zmin) \n",
    "    bot_z_len = min(context_slices, sz-drop_end) \n",
    "\n",
    "    # Alloc final vol, we dont know how large it will be in y and x but we know max z #\n",
    "    mz = num_slices + top_z_len + bot_z_len\n",
    "    final_vol = np.zeros((mz, sy, sx), dtype='uint')\n",
    "\n",
    "    # Build top section #\n",
    "    top_vol_section = final_vol[0:top_z_len]\n",
    "    top_vol_section[vol[drop_start-top_z_len:drop_start] == top_c] = top_c\n",
    "\n",
    "    # Do connected component relabeling to ensure only one fragment on top #\n",
    "    top_vol_section_relabeled = cc3d.connected_components(top_vol_section)\n",
    "    top_classes_relabeled = list(np.unique(top_vol_section_relabeled[-1])) # must select from top border slice\n",
    "    top_classes_relabeled = list_remove(top_classes_relabeled, 0)\n",
    "\n",
    "    if len(top_classes_relabeled) == 0:\n",
    "        print('encountered error, dumping')\n",
    "        print('zmin, zmax: ', zmin, zmax)\n",
    "        print('top_c', top_c)\n",
    "        print('drop range: ', drop_start, drop_end )\n",
    "        print('top, bot z_len: ', top_z_len, bot_z_len )\n",
    "\n",
    "    relabeled_top_c = random.choice(top_classes_relabeled) # select new top class from relabeled top section\n",
    "    top_vol_section_relabeled[top_vol_section_relabeled != relabeled_top_c] = 0\n",
    "\n",
    "    # ## PROJECT ACROSS THEN L2 RADIUS ##\n",
    "\n",
    "    # # Get midpoint of neurite on 2D top cross section, #\n",
    "    # top_border = top_vol_section_relabeled[-1]\n",
    "    # mins, maxs = arg_where_range(top_border == relabeled_top_c) # use the relabeled top section\n",
    "    # mp_y, mp_x = [(mi+ma)//2 for mi,ma in zip(mins,maxs)] # midpoint\n",
    "    # # Find all neurites with distnce D from that point on bottom cross section #\n",
    "    # bot_border = vol[drop_end].copy() # need copy because we zero\n",
    "    # mask = circular_mask(bot_border.shape[0], bot_border.shape[1], center=(mp_x, mp_y), radius=radius)\n",
    "    # bot_border[~mask] = 0\n",
    "    # bot_classes, counts = get_classes_sorted_by_volume(bot_border, reverse=True, return_counts=True)\n",
    "\n",
    "    # ## APPLY CROSS-SECTION ACROSS ##\n",
    "    # bot_border = vol[drop_end].copy()\n",
    "    # bot_border[top_border != relabeled_top_c] = 0\n",
    "    # bot_classes, counts = get_classes_sorted_by_volume(bot_border, reverse=True, return_counts=True)\n",
    "\n",
    "\n",
    "    # ## LINEAR INTERPOLATE ACROSS 3 MIDPOINTS ##\n",
    "    num_points = min(3,top_z_len)\n",
    "    midpoints = []\n",
    "    for i in range(num_points):\n",
    "        top_border = top_vol_section_relabeled[-i]\n",
    "        mins, maxs = arg_where_range(top_border == relabeled_top_c) # use the relabeled top section\n",
    "        mp_y, mp_x = [(mi+ma)//2 for mi,ma in zip(mins,maxs)] # midpoint\n",
    "        midpoints.append([mp_y, mp_x])\n",
    "    # # Find all neurites with distnce D from that point on bottom cross section #\n",
    "    bot_border = vol[drop_end].copy() # need copy because we zero\n",
    "    mask = circular_mask(bot_border.shape[0], bot_border.shape[1], center=(mp_x, mp_y), radius=radius)\n",
    "    bot_border[~mask] = 0\n",
    "    bot_classes, counts = get_classes_sorted_by_volume(bot_border, reverse=True, return_counts=True)\n",
    "\n",
    "    if len(bot_classes) == 1:\n",
    "        print('encountered error, dumping')\n",
    "        print('zmin, zmax: ', zmin, zmax)\n",
    "        print('top_c', top_c)\n",
    "        print('drop range: ', drop_start, drop_end )\n",
    "        print('top, bot z_len: ', top_z_len, bot_z_len )\n",
    "\n",
    "    assert bot_classes[0] == 0, 'most numerous should be zero'\n",
    "    bot_classes, counts = bot_classes[1:], counts[1:]\n",
    "    \n",
    "    # does the true neurite occur?\n",
    "    true_occur = top_c in bot_classes\n",
    "    # how many total classes occur?\n",
    "    num_classes = len(bot_classes)\n",
    "    # percent vol of true\n",
    "    if true_occur:\n",
    "        vol = counts[top_c == bot_classes]\n",
    "        total = np.sum(counts)\n",
    "        percent = vol / total\n",
    "        percent = percent[0]\n",
    "        is_max = top_c == bot_classes[np.argmax(counts)]\n",
    "    else:\n",
    "        is_max = False\n",
    "        percent = 0\n",
    "\n",
    "    return true_occur, num_classes, is_max, percent "
   ],
   "outputs": [],
   "metadata": {}
  },
  {
   "cell_type": "code",
   "execution_count": 291,
   "source": [
    "num_slices = 3\n",
    "classes = get_classes_which_zspan_at_least(trueA, num_slices)\n",
    "print(f'{len(classes)}/{len(np.unique(trueC))}')"
   ],
   "outputs": [
    {
     "output_type": "stream",
     "name": "stdout",
     "text": [
      "415/2536\n"
     ]
    }
   ],
   "metadata": {}
  },
  {
   "cell_type": "code",
   "execution_count": 295,
   "source": [
    "total_occur, avg_classes_when_occur, total_max, avg_percent_when_occur = 0,0,0,0\n",
    "classes = list(classes)\n",
    "random.shuffle(classes)\n",
    "max = min(500,len(classes))\n",
    "radius = 16\n",
    "for i,c in enumerate(classes):  \n",
    "    true_occur, num_classes, is_max, percent = test_success(trueA, c, num_slices=num_slices, radius=radius)\n",
    "    # print(f'occurs: {true_occur}, out_of: {num_classes}, is_max_vol {is_max}, %_vol {percent}')\n",
    "    if true_occur:\n",
    "        total_occur += 1\n",
    "        avg_classes_when_occur += num_classes\n",
    "        avg_percent_when_occur += percent\n",
    "    if is_max:\n",
    "        total_max += 1\n",
    "    print('.', end='')\n",
    "    if i > max:\n",
    "        print('')\n",
    "        break\n",
    "\n",
    "avg_classes_when_occur /= total_occur\n",
    "avg_percent_when_occur /= total_occur\n",
    "avg_occur = total_occur / max\n",
    "avg_max = total_max / max\n",
    "\n",
    "print(f'num slices: {num_slices} num examples: {max}, radius {radius}')\n",
    "print(f'avg_occur: {avg_occur}, avg_max: {avg_max}, avg_percent_when_occur {avg_percent_when_occur}, avg_classes_when_occur {avg_classes_when_occur}')"
   ],
   "outputs": [
    {
     "output_type": "stream",
     "name": "stdout",
     "text": [
      "...............................................................................................................................................................................................................................................................................................................................................................................................................................num slices: 3 num examples: 415, radius 16\n",
      "avg_occur: 0.8289156626506025, avg_max: 0.5349397590361445, avg_percent_when_occur 0.6214361931592028, avg_classes_when_occur 2.441860465116279\n"
     ]
    }
   ],
   "metadata": {}
  },
  {
   "cell_type": "code",
   "execution_count": null,
   "source": [],
   "outputs": [],
   "metadata": {}
  }
 ],
 "metadata": {
  "interpreter": {
   "hash": "a8e73444cd85779debfbed2ff850992c15fb63378866812fd7bb614c3cbdab4a"
  },
  "kernelspec": {
   "name": "python3",
   "display_name": "Python 3.9.5 64-bit"
  },
  "language_info": {
   "codemirror_mode": {
    "name": "ipython",
    "version": 3
   },
   "file_extension": ".py",
   "mimetype": "text/x-python",
   "name": "python",
   "nbconvert_exporter": "python",
   "pygments_lexer": "ipython3",
   "version": "3.9.5"
  },
  "metadata": {
   "interpreter": {
    "hash": "ac2eaa0ea0ebeafcc7822e65e46aa9d4f966f30b695406963e145ea4a91cd4fc"
   }
  }
 },
 "nbformat": 4,
 "nbformat_minor": 2
}