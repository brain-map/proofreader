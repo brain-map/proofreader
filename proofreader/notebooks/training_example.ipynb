{
 "cells": [
  {
   "cell_type": "code",
   "execution_count": 1,
   "source": [
    "import numpy as np\n",
    "import random\n",
    "import matplotlib.pyplot as plt\n",
    "from proofreader.utils.vis import plot_3d\n",
    "%load_ext autoreload\n",
    "%autoreload 2\n",
    "%matplotlib inline"
   ],
   "outputs": [],
   "metadata": {}
  },
  {
   "cell_type": "code",
   "execution_count": 2,
   "source": [
    "from proofreader.data.cremi import prepare_cremi_vols\n",
    "\n",
    "train_vols, test_vols = prepare_cremi_vols('../../dataset/cremi')"
   ],
   "outputs": [],
   "metadata": {}
  },
  {
   "cell_type": "code",
   "execution_count": 19,
   "source": [
    "from proofreader.data.splitter import SplitterDataset\n",
    "from proofreader.data.augment import Augmentor\n",
    "num_slices = [1, 4]\n",
    "radius = 96\n",
    "context_slices = 6\n",
    "num_points = 1024\n",
    "\n",
    "augmentor = Augmentor(center=True, shuffle=True, rotate=True, scale=True)\n",
    "dataset = SplitterDataset(train_vols, num_slices, radius, context_slices, num_points=num_points, torch=False, open_vol=True, verbose=True, Augmentor=augmentor)\n",
    "print(len(dataset))"
   ],
   "outputs": [
    {
     "output_type": "stream",
     "name": "stdout",
     "text": [
      "3534\n"
     ]
    }
   ],
   "metadata": {}
  },
  {
   "cell_type": "code",
   "execution_count": 27,
   "source": [
    "from proofreader.utils.vis import plot_3d\n",
    "%matplotlib widget\n",
    "num = 10\n",
    "lim = (-.1,.1)\n",
    "lim = (lim,lim,lim)\n",
    "print(lim)\n",
    "for i in range(0, num):\n",
    "    rand_i = random.randint(0, len(dataset))\n",
    "    pc, label = dataset[rand_i]\n",
    "    pc = np.swapaxes(pc, 0, 1)\n",
    "    plot_3d(pc, lims=lim)\n",
    "\n"
   ],
   "outputs": [
    {
     "output_type": "stream",
     "name": "stdout",
     "text": [
      "((-0.1, 0.1), (-0.1, 0.1), (-0.1, 0.1))\n",
      "1, vol: 0, c: 13236\n",
      "num_slices: 1, drop: [50, 51]\n",
      "pc shape: (3, 1024), vol shape: (12, 119, 144)\n"
     ]
    },
    {
     "output_type": "display_data",
     "data": {
      "text/plain": [
       "Canvas(toolbar=Toolbar(toolitems=[('Home', 'Reset original view', 'home', 'home'), ('Back', 'Back to previous …"
      ],
      "application/vnd.jupyter.widget-view+json": {
       "version_major": 2,
       "version_minor": 0,
       "model_id": "5d1662f0cbb64d0e8274e08b25cfd929"
      }
     },
     "metadata": {}
    },
    {
     "output_type": "stream",
     "name": "stdout",
     "text": [
      "1, vol: 0, c: 6106\n",
      "num_slices: 2, drop: [27, 29]\n",
      "pc shape: (3, 1024), vol shape: (12, 69, 94)\n"
     ]
    },
    {
     "output_type": "display_data",
     "data": {
      "text/plain": [
       "Canvas(toolbar=Toolbar(toolitems=[('Home', 'Reset original view', 'home', 'home'), ('Back', 'Back to previous …"
      ],
      "application/vnd.jupyter.widget-view+json": {
       "version_major": 2,
       "version_minor": 0,
       "model_id": "370fe755953d4071a938666dc301ddb1"
      }
     },
     "metadata": {}
    },
    {
     "output_type": "stream",
     "name": "stdout",
     "text": [
      "0, vol: 1, c: 514\n",
      "num_slices: 2, drop: [40, 42]\n",
      "pc shape: (3, 1024), vol shape: (14, 172, 156)\n"
     ]
    },
    {
     "output_type": "display_data",
     "data": {
      "text/plain": [
       "Canvas(toolbar=Toolbar(toolitems=[('Home', 'Reset original view', 'home', 'home'), ('Back', 'Back to previous …"
      ],
      "application/vnd.jupyter.widget-view+json": {
       "version_major": 2,
       "version_minor": 0,
       "model_id": "15ef0ebb18334e61b8fcadd346a908ee"
      }
     },
     "metadata": {}
    },
    {
     "output_type": "stream",
     "name": "stdout",
     "text": [
      "1, vol: 0, c: 362\n",
      "num_slices: 3, drop: [21, 24]\n",
      "pc shape: (3, 1024), vol shape: (15, 96, 137)\n"
     ]
    },
    {
     "output_type": "display_data",
     "data": {
      "text/plain": [
       "Canvas(toolbar=Toolbar(toolitems=[('Home', 'Reset original view', 'home', 'home'), ('Back', 'Back to previous …"
      ],
      "application/vnd.jupyter.widget-view+json": {
       "version_major": 2,
       "version_minor": 0,
       "model_id": "8bcced10b1844b65815a83440ae16ffa"
      }
     },
     "metadata": {}
    },
    {
     "output_type": "stream",
     "name": "stdout",
     "text": [
      "0, vol: 1, c: 641\n",
      "num_slices: 3, drop: [46, 49]\n",
      "pc shape: (3, 1024), vol shape: (12, 118, 111)\n"
     ]
    },
    {
     "output_type": "display_data",
     "data": {
      "text/plain": [
       "Canvas(toolbar=Toolbar(toolitems=[('Home', 'Reset original view', 'home', 'home'), ('Back', 'Back to previous …"
      ],
      "application/vnd.jupyter.widget-view+json": {
       "version_major": 2,
       "version_minor": 0,
       "model_id": "829440a1b7514263adc739e898a0d02a"
      }
     },
     "metadata": {}
    },
    {
     "output_type": "stream",
     "name": "stdout",
     "text": [
      "1, vol: 2, c: 1159\n",
      "num_slices: 2, drop: [86, 88]\n",
      "pc shape: (3, 1024), vol shape: (14, 194, 212)\n"
     ]
    },
    {
     "output_type": "display_data",
     "data": {
      "text/plain": [
       "Canvas(toolbar=Toolbar(toolitems=[('Home', 'Reset original view', 'home', 'home'), ('Back', 'Back to previous …"
      ],
      "application/vnd.jupyter.widget-view+json": {
       "version_major": 2,
       "version_minor": 0,
       "model_id": "460c89e9ddac4fbfbc2a476ad4d0a2d7"
      }
     },
     "metadata": {}
    },
    {
     "output_type": "stream",
     "name": "stdout",
     "text": [
      "1, vol: 1, c: 482\n",
      "num_slices: 1, drop: [40, 41]\n",
      "not enough points, need 1024, have 979, replace sampling to fix\n",
      "pc shape: (3, 1024), vol shape: (11, 72, 75)\n"
     ]
    },
    {
     "output_type": "display_data",
     "data": {
      "text/plain": [
       "Canvas(toolbar=Toolbar(toolitems=[('Home', 'Reset original view', 'home', 'home'), ('Back', 'Back to previous …"
      ],
      "application/vnd.jupyter.widget-view+json": {
       "version_major": 2,
       "version_minor": 0,
       "model_id": "36eef1f297a24ea2b271c8a1476f826e"
      }
     },
     "metadata": {}
    },
    {
     "output_type": "stream",
     "name": "stdout",
     "text": [
      "0, vol: 2, c: 190\n",
      "num_slices: 1, drop: [16, 17]\n",
      "pc shape: (3, 1024), vol shape: (13, 254, 231)\n"
     ]
    },
    {
     "output_type": "display_data",
     "data": {
      "text/plain": [
       "Canvas(toolbar=Toolbar(toolitems=[('Home', 'Reset original view', 'home', 'home'), ('Back', 'Back to previous …"
      ],
      "application/vnd.jupyter.widget-view+json": {
       "version_major": 2,
       "version_minor": 0,
       "model_id": "05fb6e46f7794fe684ba597a81d976af"
      }
     },
     "metadata": {}
    },
    {
     "output_type": "stream",
     "name": "stdout",
     "text": [
      "0, vol: 1, c: 522\n",
      "num_slices: 2, drop: [55, 57]\n",
      "pc shape: (3, 1024), vol shape: (12, 114, 419)\n"
     ]
    },
    {
     "output_type": "display_data",
     "data": {
      "text/plain": [
       "Canvas(toolbar=Toolbar(toolitems=[('Home', 'Reset original view', 'home', 'home'), ('Back', 'Back to previous …"
      ],
      "application/vnd.jupyter.widget-view+json": {
       "version_major": 2,
       "version_minor": 0,
       "model_id": "4132a6c49ed348fd8369b30dc4c668f7"
      }
     },
     "metadata": {}
    },
    {
     "output_type": "stream",
     "name": "stdout",
     "text": [
      "1, vol: 2, c: 1959\n",
      "num_slices: 1, drop: [104, 105]\n",
      "pc shape: (3, 1024), vol shape: (9, 138, 180)\n"
     ]
    },
    {
     "output_type": "display_data",
     "data": {
      "text/plain": [
       "Canvas(toolbar=Toolbar(toolitems=[('Home', 'Reset original view', 'home', 'home'), ('Back', 'Back to previous …"
      ],
      "application/vnd.jupyter.widget-view+json": {
       "version_major": 2,
       "version_minor": 0,
       "model_id": "7a19d03747634fc59409adf5666e00e2"
      }
     },
     "metadata": {}
    }
   ],
   "metadata": {}
  },
  {
   "cell_type": "code",
   "execution_count": null,
   "source": [],
   "outputs": [],
   "metadata": {}
  }
 ],
 "metadata": {
  "interpreter": {
   "hash": "a8e73444cd85779debfbed2ff850992c15fb63378866812fd7bb614c3cbdab4a"
  },
  "kernelspec": {
   "name": "python3",
   "display_name": "Python 3.9.5 64-bit"
  },
  "language_info": {
   "name": "python",
   "version": "3.9.5",
   "mimetype": "text/x-python",
   "codemirror_mode": {
    "name": "ipython",
    "version": 3
   },
   "pygments_lexer": "ipython3",
   "nbconvert_exporter": "python",
   "file_extension": ".py"
  },
  "metadata": {
   "interpreter": {
    "hash": "ac2eaa0ea0ebeafcc7822e65e46aa9d4f966f30b695406963e145ea4a91cd4fc"
   }
  }
 },
 "nbformat": 4,
 "nbformat_minor": 2
}