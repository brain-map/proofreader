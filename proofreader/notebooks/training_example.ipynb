{
 "cells": [
  {
   "cell_type": "code",
   "execution_count": null,
   "source": [
    "import numpy as np\n",
    "import random\n",
    "import matplotlib.pyplot as plt\n",
    "from proofreader.utils.vis import plot_3d\n",
    "%load_ext autoreload\n",
    "%autoreload 2\n",
    "%matplotlib inline"
   ],
   "outputs": [],
   "metadata": {}
  },
  {
   "cell_type": "code",
   "execution_count": null,
   "source": [
    "from proofreader.data.cremi import prepare_cremi_vols\n",
    "\n",
    "train_vols, test_vols = prepare_cremi_vols('../../dataset/cremi')"
   ],
   "outputs": [],
   "metadata": {}
  },
  {
   "cell_type": "code",
   "execution_count": null,
   "source": [
    "from proofreader.data.splitter import SplitterDataset\n",
    "from proofreader.data.augment import Augmentor\n",
    "num_slices = [4, 4]\n",
    "radius = 96\n",
    "context_slices = 4\n",
    "num_points = 1024\n",
    "\n",
    "augmentor = Augmentor(center=True, shuffle=True, normalize=[125, 1250, 1250])\n",
    "train_dataset = SplitterDataset(test_vols, num_slices, radius, context_slices, num_points=num_points, torch=True, open_vol=True, verbose=False, Augmentor=augmentor)\n",
    "print(len(train_dataset))"
   ],
   "outputs": [],
   "metadata": {}
  },
  {
   "cell_type": "code",
   "execution_count": null,
   "source": [
    "from torch.utils.data import DataLoader\n",
    "import torch.nn as nn\n",
    "dataloader = DataLoader(dataset=train_dataset, batch_size=64, shuffle=True)\n",
    "model, _ ,_ = build_full_model_from_config(config.model, config.dataset)\n",
    "model = nn.DataParallel(model)\n",
    "model = load_model(model, '../../330.ckpt', map_location=torch.device('cpu'))\n",
    "\n"
   ],
   "outputs": [],
   "metadata": {}
  },
  {
   "cell_type": "code",
   "execution_count": null,
   "source": [
    "from proofreader.model.classifier import *\n",
    "with torch.no_grad():\n",
    "    count, acc = 0,0\n",
    "    for step, batch in enumerate(dataloader):\n",
    "        count += 1\n",
    "        # get batch\n",
    "        x, y = batch\n",
    "        y_hat = model(x)\n",
    "        pred = predict_class(y_hat)\n",
    "        accs = get_accuracy(y, pred)\n",
    "        print(accs)\n",
    "        acc += accs['total_acc']\n",
    "        print(round(acc/count, 3))\n"
   ],
   "outputs": [],
   "metadata": {}
  },
  {
   "cell_type": "code",
   "execution_count": null,
   "source": [
    "from proofreader.utils.vis import plot_3d\n",
    "%matplotlib widget\n",
    "num = 10\n",
    "lim = (-.1,.1)\n",
    "lim = (lim,lim,lim)\n",
    "print(lim)\n",
    "for i in range(0, num):\n",
    "    rand_i = random.randint(0, len(dataset))\n",
    "    pc, label = dataset[rand_i]\n",
    "    pc = np.swapaxes(pc, 0, 1)\n",
    "    plot_3d(pc, lims=lim)\n",
    "\n"
   ],
   "outputs": [],
   "metadata": {}
  },
  {
   "cell_type": "code",
   "execution_count": null,
   "source": [
    "\n"
   ],
   "outputs": [],
   "metadata": {}
  },
  {
   "cell_type": "code",
   "execution_count": null,
   "source": [
    "from proofreader.data.splitter import SplitterTest\n",
    "from proofreader.data.augment import Augmentor\n",
    "from proofreader.utils.torch import load_model\n",
    "from proofreader.model.config import *\n",
    "from torch.utils.data import DataLoader\n",
    "import torch.nn as nn\n",
    "\n",
    "config = get_config('cn_context_4_aug_small')\n",
    "\n",
    "# model, _ ,_ = build_full_model_from_config(config.model, config.dataset)\n",
    "# model = nn.DataParallel(model)\n",
    "# model = load_model(model, '../../330.ckpt', map_location=torch.device('cpu'))\n",
    "\n",
    "num_slices = 4\n",
    "radius = 96\n",
    "context_slices = 4\n",
    "num_points = 1024\n",
    "augmentor = Augmentor(center=True, shuffle=True, normalize=[125, 1250, 1250])\n",
    "tester = SplitterTest(test_vols, num_slices, radius, context_slices, num_points=num_points, Augmentor=augmentor, verbose=False)\n"
   ],
   "outputs": [],
   "metadata": {}
  },
  {
   "cell_type": "code",
   "execution_count": null,
   "source": [
    "dataloader = DataLoader(dataset=tester, batch_size=16, num_workers=3)\n",
    "lim = (-.1,.1)\n",
    "lim = (lim,lim,lim)\n",
    "for step, batch in enumerate(dataloader):\n",
    "    x, y = batch\n",
    "    print(step, y)\n",
    "    for i in range(x.shape[0]):\n",
    "        pc = np.swapaxes(x[i], 0, 1)\n",
    "        label = y[i].item() == 1\n",
    "        plot_3d(pc, title=label, lims=lim)\n",
    "\n"
   ],
   "outputs": [],
   "metadata": {}
  },
  {
   "cell_type": "code",
   "execution_count": null,
   "source": [],
   "outputs": [],
   "metadata": {}
  }
 ],
 "metadata": {
  "interpreter": {
   "hash": "a8e73444cd85779debfbed2ff850992c15fb63378866812fd7bb614c3cbdab4a"
  },
  "kernelspec": {
   "name": "python3",
   "display_name": "Python 3.9.5 64-bit"
  },
  "language_info": {
   "name": "python",
   "version": "3.9.5",
   "mimetype": "text/x-python",
   "codemirror_mode": {
    "name": "ipython",
    "version": 3
   },
   "pygments_lexer": "ipython3",
   "nbconvert_exporter": "python",
   "file_extension": ".py"
  },
  "metadata": {
   "interpreter": {
    "hash": "ac2eaa0ea0ebeafcc7822e65e46aa9d4f966f30b695406963e145ea4a91cd4fc"
   }
  }
 },
 "nbformat": 4,
 "nbformat_minor": 2
}