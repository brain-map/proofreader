{
 "cells": [
  {
   "cell_type": "code",
   "execution_count": 85,
   "source": [
    "import numpy as np\n",
    "import matplotlib.pyplot as plt\n",
    "from proofreader.utils.io import read_cremi_volume, from_h5\n",
    "%load_ext autoreload\n",
    "%autoreload 2"
   ],
   "outputs": [
    {
     "output_type": "stream",
     "name": "stdout",
     "text": [
      "The autoreload extension is already loaded. To reload it, use:\n",
      "  %reload_ext autoreload\n"
     ]
    }
   ],
   "metadata": {}
  },
  {
   "cell_type": "code",
   "execution_count": 121,
   "source": [
    "import matplotlib.pyplot as plt\n",
    "import IPython\n",
    "\n",
    "def view_volume(volume, fig_size=6.5):\n",
    "    length = volume.shape[0]\n",
    "\n",
    "    # set up\n",
    "    fig = plt.figure()\n",
    "    fig.set_size_inches(fig_size, fig_size)\n",
    "    axes = fig.add_subplot()\n",
    "    hfig = display(fig, display_id=True)\n",
    "\n",
    "    # display\n",
    "    for i in range(length):\n",
    "        axes.imshow(volume[i], cmap='gray', interpolation='none',\n",
    "                    filternorm=False, resample=False)\n",
    "        fig.canvas.draw()\n",
    "        hfig.update(fig)\n",
    "        if i != length-1:\n",
    "            plt.cla()\n",
    "    # clean up\n",
    "    IPython.display.clear_output()\n"
   ],
   "outputs": [],
   "metadata": {}
  },
  {
   "cell_type": "code",
   "execution_count": 46,
   "source": [
    "trueA = read_cremi_volume('A',seg=True, path='../../dataset/cremi')\n",
    "trueB = read_cremi_volume('B',seg=True, path='../../dataset/cremi')\n",
    "trueC = read_cremi_volume('C',seg=True, path='../../dataset/cremi')"
   ],
   "outputs": [],
   "metadata": {}
  },
  {
   "cell_type": "code",
   "execution_count": 3,
   "source": [
    "imgA = read_cremi_volume('A', img=True, path='../../dataset/cremi')\n",
    "imgB = read_cremi_volume('B', img=True, path='../../dataset/cremi')\n",
    "imgC = read_cremi_volume('C', img=True, path='../../dataset/cremi')"
   ],
   "outputs": [],
   "metadata": {}
  },
  {
   "cell_type": "code",
   "execution_count": 33,
   "source": [
    "def get_classes_sorted_by_volume(vol, reverse=False, return_counts=False):\n",
    "\n",
    "    classes, counts = np.unique(vol, return_counts=True)\n",
    "\n",
    "    sort_indices = np.argsort(counts)\n",
    "    if reverse:\n",
    "        sort_indices = np.flip(sort_indices)\n",
    "    classes = classes[sort_indices]\n",
    "    if return_counts:\n",
    "        counts = counts[sort_indices]\n",
    "        return classes, counts\n",
    "    return classes"
   ],
   "outputs": [],
   "metadata": {}
  },
  {
   "cell_type": "code",
   "execution_count": 34,
   "source": [
    "import random\n",
    "import numpy as np\n",
    "\n",
    "def sample_square_radius(vol, radius):\n",
    "    dims = len(vol.shape)\n",
    "    if type(radius) != tuple:\n",
    "        radius = (radius,)*dims\n",
    "    assert dims == len(radius), 'radius must be specified for each dim of input, or be scalar'\n",
    "\n",
    "    sample_slice = []\n",
    "    for d in range(dims):\n",
    "        r = radius[d]\n",
    "        s = vol.shape[d]\n",
    "        x = random.randint(r, s-r)\n",
    "        sample_slice.append(slice(x-r,x+r))\n",
    "    sample_slice = tuple(sample_slice)\n",
    "    return vol[sample_slice]\n"
   ],
   "outputs": [],
   "metadata": {}
  },
  {
   "cell_type": "code",
   "execution_count": 79,
   "source": [
    "\n",
    "classes, counts = get_classes_sorted_by_volume(trueC, return_counts=True, reverse=True)\n",
    "\n"
   ],
   "outputs": [],
   "metadata": {}
  },
  {
   "cell_type": "code",
   "execution_count": 59,
   "source": [
    "# get negative example\n",
    "i = 50\n",
    "vol = trueC.copy()\n",
    "c = classes[i]\n",
    "print(counts[i])"
   ],
   "outputs": [
    {
     "output_type": "stream",
     "name": "stdout",
     "text": [
      "770366\n"
     ]
    }
   ],
   "metadata": {}
  },
  {
   "cell_type": "code",
   "execution_count": 68,
   "source": [
    "\n",
    "vol = trueC.copy()"
   ],
   "outputs": [],
   "metadata": {}
  },
  {
   "cell_type": "code",
   "execution_count": 207,
   "source": [
    "import random\n",
    "import math\n",
    "import cc3d\n",
    "from proofreader.utils.all import split_int\n",
    "from proofreader.utils.data import arg_where_range, circular_mask, crop_where\n",
    "from proofreader.utils.vis import view_segmentation, grid_volume\n",
    "from skimage import color\n",
    "# Negative\n",
    "# 1. Define a distance\n",
    "# 2. Select neruite, (some label class, c)\n",
    "# 3. Fracture neurite by dropping some z-slices to drop\n",
    "# 4. Do connected compoent analysis on \"top\" fragment and select one fragment\n",
    "# 4. Get closest point on other side of the fracture\n",
    "# 5. Find all neurites with distnce D from that point on fracture cross section\n",
    "# 6. Pick 1 neurite of above set\n",
    "\n",
    "vol = trueC.copy()\n",
    "\n",
    "# 1. Define a distance\n",
    "radius = 24 # in voxels\n",
    "margin = 3 # margin (in z-slices) from min and max locations to drop slices\n",
    "num_slices = 4 # number of slices to drop\n",
    "# context_slices = 10 # number of slice on either side of drop slices, full for now\n",
    "\n",
    "# 2. Select neruite, (some label class, c)\n",
    "top_c = classes[100] # will be the \"top\" fragment\n",
    "\n",
    "# 3. Fracture neurite by dropping some z-slices to drop\n",
    "mins, maxs = arg_where_range(vol == top_c)\n",
    "zmin, zmax = mins[0], maxs[0] # get z range of neurite\n",
    "z_loc = random.randint(zmin + margin, zmax - margin)\n",
    "a,b = split_int(num_slices)\n",
    "drop_start, drop_end = z_loc-a, z_loc+b # beginng and end of drop indices\n",
    "\n",
    "# ensure fragment\n",
    "drop_start, drop_end  = 64, 68\n",
    "top_vol_section = vol[zmin:drop_start]\n",
    "bot_vol_section = vol[drop_end:]\n",
    "print(top_vol_section.shape, bot_vol_section.shape)\n",
    "# 4. Do connected component relabeling to ensure only one fragment on top\n",
    "top_vol_section = vol[zmin:drop_start]\n",
    "top_vol_section[top_vol_section != top_c] = 0\n",
    "top_vol_section_relabeled = cc3d.connected_components(top_vol_section)\n",
    "top_classes_relabeled = list(np.unique(top_vol_section_relabeled))\n",
    "top_classes_relabeled.remove(0)\n",
    "relabeled_top_c = random.choice(top_classes_relabeled) # select new top class from relabeled top section\n",
    "\n",
    "# 5. Get midpoint of neurite on top cross section\n",
    "top_border = np.squeeze(top_vol_section_relabeled[-1:]).copy()\n",
    "bot_border = np.squeeze(bot_vol_section[:1]).copy()\n",
    "# get mid point of neurite on 2D top cross section, use the relabeled top section\n",
    "mins, maxs = arg_where_range(top_border == relabeled_top_c)\n",
    "mp_y, mp_x = [(mi + ma) // 2 for mi,ma in zip(mins,maxs)] # mid point\n",
    "\n",
    "view_segmentation([top_border])\n",
    "\n",
    "# 6. Find all neurites with distnce D from that point on bottom cross section\n",
    "mask = circular_mask(bot_border.shape[0], bot_border.shape[1], center=(mp_x, mp_y), radius=radius)\n",
    "bot_border[~mask] = 0\n",
    "\n",
    "view_segmentation([bot_border])\n",
    "\n",
    "mismatch_classes = list(np.unique(bot_border))\n",
    "# 6. Pick 1 neurite of above set\n",
    "assert mismatch_classes[0] == 0, 'first class should be 0, otherwise something went wrong'\n",
    "mismatch_classes = [ x for x in mismatch_classes if not x in [0, top_c] ] # remove 0 and top class lables\n",
    "print(mismatch_classes, top_c)\n",
    "if len(mismatch_classes) == 0:\n",
    "    print('could not find bottom label retrying')\n",
    "# maybe could select here based on on cross-sectional volume\n",
    "bot_c = random.choice(mismatch_classes) # select bottom neurite class\n",
    "\n",
    "# 4. Do connected component relabeling to ensure only one fragment on bottom\n",
    "# Get bottom neurite\n",
    "bot_vol_section[bot_vol_section != bot_c] = 0\n",
    "view_segmentation(bot_vol_section)\n",
    "bot_vol_section_relabeled = cc3d.connected_components(bot_vol_section)\n",
    "bot_classes_relabeled = list(np.unique(bot_vol_section_relabeled))\n",
    "bot_classes_relabeled.remove(0)\n",
    "relabeled_bot_c = 0 #TODO take one which contains mid point of top neurite\n",
    "view_segmentation(bot_vol_section_relabeled)\n"
   ],
   "outputs": [
    {
     "output_type": "stream",
     "name": "stdout",
     "text": [
      "(6, 1250, 1250) (57, 1250, 1250)\n"
     ]
    },
    {
     "output_type": "display_data",
     "data": {
      "text/plain": [
       "<Figure size 720x720 with 1 Axes>"
      ],
      "image/png": "[encoded data removed]"
     },
     "metadata": {
      "needs_background": "light"
     }
    },
    {
     "output_type": "display_data",
     "data": {
      "text/plain": [
       "<Figure size 720x720 with 1 Axes>"
      ],
      "image/png": "[encoded data removed]"
     },
     "metadata": {
      "needs_background": "light"
     }
    },
    {
     "output_type": "stream",
     "name": "stdout",
     "text": [
      "[10987] 12262\n"
     ]
    },
    {
     "output_type": "display_data",
     "data": {
      "text/plain": [
       "<Figure size 720x720 with 1 Axes>"
      ],
      "image/png": "[encoded data removed]"
     },
     "metadata": {
      "needs_background": "light"
     }
    },
    {
     "output_type": "display_data",
     "data": {
      "text/plain": [
       "<Figure size 720x720 with 1 Axes>"
      ],
      "image/png": "[encoded data removed]"
     },
     "metadata": {
      "needs_background": "light"
     }
    }
   ],
   "metadata": {}
  },
  {
   "cell_type": "code",
   "execution_count": null,
   "source": [],
   "outputs": [],
   "metadata": {}
  }
 ],
 "metadata": {
  "interpreter": {
   "hash": "a8e73444cd85779debfbed2ff850992c15fb63378866812fd7bb614c3cbdab4a"
  },
  "kernelspec": {
   "name": "python3",
   "display_name": "Python 3.9.5 64-bit"
  },
  "language_info": {
   "codemirror_mode": {
    "name": "ipython",
    "version": 3
   },
   "file_extension": ".py",
   "mimetype": "text/x-python",
   "name": "python",
   "nbconvert_exporter": "python",
   "pygments_lexer": "ipython3",
   "version": "3.9.5"
  },
  "metadata": {
   "interpreter": {
    "hash": "ac2eaa0ea0ebeafcc7822e65e46aa9d4f966f30b695406963e145ea4a91cd4fc"
   }
  }
 },
 "nbformat": 4,
 "nbformat_minor": 2
}