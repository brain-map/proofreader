{
 "cells": [
  {
   "cell_type": "code",
   "execution_count": null,
   "source": [
    "import numpy as np\n",
    "import random\n",
    "import matplotlib.pyplot as plt\n",
    "from proofreader.utils.vis import plot_3d\n",
    "import torch\n",
    "%load_ext autoreload\n",
    "%autoreload 2\n",
    "%matplotlib inline\n",
    "\n",
    "def plot_example(x,y=None,title=None, lim=0.1):\n",
    "    if lim is not None:\n",
    "        lim = (lim*-1,lim)\n",
    "        lim = (lim,lim,lim)\n",
    "    pc = np.swapaxes(x, 0, 1)\n",
    "    t = ''\n",
    "    if y is not None:\n",
    "        t = y.item() == 1\n",
    "    if title is not None:\n",
    "        t = title\n",
    "    plot_3d(pc, title=t, lims=lim)\n"
   ],
   "outputs": [],
   "metadata": {}
  },
  {
   "cell_type": "code",
   "execution_count": null,
   "source": [
    "import torch\n",
    "from proofreader.utils.vis import *\n",
    "import numpy as np\n",
    "\n",
    "# for i in range(1,6):\n",
    "#     print('NUM SLICES: ', i)\n",
    "path = f'/mnt/home/jberman/ceph/pf/dataset/DATASET_aligned_ns=1_cs=3_val.pt'\n",
    "X, Y, I = torch.load(f'{path}')\n"
   ],
   "outputs": [],
   "metadata": {}
  },
  {
   "cell_type": "code",
   "execution_count": null,
   "source": [
    "X, Y = torch.cat(X), torch.cat(Y)"
   ],
   "outputs": [],
   "metadata": {}
  },
  {
   "cell_type": "code",
   "execution_count": null,
   "source": [
    "for i in range(40):\n",
    "    plot_example(X[i], y=Y[i][0], lim=None)"
   ],
   "outputs": [],
   "metadata": {}
  },
  {
   "cell_type": "code",
   "execution_count": null,
   "source": [
    "lens = []\n",
    "for b in X:\n",
    "    lens.append(len(b))\n",
    "lens = np.array(lens)\n",
    "\n",
    "# if Y[:,0][-1].item() != 1:\n",
    "#     if Y[:,0].count_nonzero().item() != 0:\n",
    "#         print(y[:,0])\n",
    "\n",
    "cutoff = 8\n",
    "p_sum = 0\n",
    "for i in range(15):\n",
    "    p = len(lens[lens==i])/len(lens)\n",
    "    print(i, p)\n",
    "    if i > cutoff:\n",
    "        p_sum += p\n",
    "print(cutoff, p_sum)\n",
    "make_histogram(lens, bins=50)"
   ],
   "outputs": [],
   "metadata": {}
  },
  {
   "cell_type": "code",
   "execution_count": null,
   "source": [
    "num_slices = 1\n",
    "new_cs = 2\n",
    "for i,x in enumerate(X[200:300]):\n",
    "    x = x.numpy()\n",
    "    d, n = x.shape\n",
    "    z_cords = x[0,:]\n",
    "    unique_z = np.unique(z_cords)\n",
    "    drop_start = -1\n",
    "    for j in range(len(unique_z)-1):\n",
    "        if unique_z[j]+1 != unique_z[j+1]:\n",
    "            drop_start = j+1\n",
    "            break\n",
    "\n",
    "    if drop_start == -1:\n",
    "        print(f'could not find drop start for zs {unique_z}, coudl be issue with data')\n",
    "\n",
    "    top_z, bot_z = unique_z[:drop_start], unique_z[drop_start:]\n",
    "    top_labels = np.isin(z_cords, top_z).astype(float)\n",
    "    bot_labels = np.isin(z_cords, bot_z).astype(float)\n",
    "\n",
    "    print(top_labels)\n",
    "    print(bot_labels)\n",
    "    print(bot_labels.shape)\n",
    "\n",
    "\n"
   ],
   "outputs": [],
   "metadata": {}
  },
  {
   "cell_type": "code",
   "execution_count": null,
   "source": [
    "from proofreader.data.cremi import prepare_cremi_vols\n",
    "\n",
    "train_vols, test_vols = prepare_cremi_vols('/mnt/home/jberman/sc/proofreader/dataset/cremi')"
   ],
   "outputs": [],
   "metadata": {}
  },
  {
   "cell_type": "code",
   "execution_count": null,
   "source": [
    "from proofreader.data.augment import Augmentor\n",
    "from proofreader.data.splitter import SliceDataset\n",
    "\n",
    "test_vol = test_vols[0]\n",
    "num_slices = 1\n",
    "radius = 96\n",
    "context_slices = 3\n",
    "num_points = 2048\n",
    "scale = 1000\n",
    "z_amt = (context_slices*2+num_slices)-1\n",
    "augmentor = Augmentor(center=True, shuffle=True,\n",
    "                        normalize=(z_amt, scale, scale))\n",
    "dataset = SliceDataset([test_vol], num_slices, radius, context_slices, num_points=num_points, Augmentor=augmentor, truncate_candidates=0, candidate_group=False, scale=scale, verbose=False, allow_multiple=True)\n",
    "itr = dataset.__iter__()"
   ],
   "outputs": [],
   "metadata": {}
  },
  {
   "cell_type": "code",
   "execution_count": null,
   "source": [
    "example = next(itr)\n",
    "x, y, i = example\n",
    "print(i)\n",
    "plot_example(x, y=y, lim=0.5)"
   ],
   "outputs": [],
   "metadata": {}
  },
  {
   "cell_type": "code",
   "execution_count": null,
   "source": [
    "from proofreader.utils.voi import voi\n",
    "from collections import defaultdict\n",
    "\n",
    "\n",
    "all_true_infos = []\n",
    "grouped = defaultdict(lambda: defaultdict(list)) # vol_i -> drop_start -> [infos]\n",
    "for info in all_true_infos:\n",
    "    vol_i, drop_start = info['volume_i'], info['drop_start']\n",
    "    grouped[vol_i][drop_start].append(info)\n",
    "\n",
    "# get total voi\n",
    "(split_del, merge_del) = 0, 0\n",
    "num_drops = 0\n",
    "for (vol_i, drops) in grouped.items():\n",
    "    num_drops += len(drops)\n",
    "    for drop_start, true_infos in drops.items():\n",
    "        drop = (drop_start, drop_start+num_slices)\n",
    "        (split_del, merge_del) += compute_voi_for_drop(vol, drop, true_infos)\n",
    "\n",
    "(avg_split_del, avg_merge_del) = split_del/num_drops, merge_del/num_drops\n",
    "\n",
    "def compute_voi_for_drop(vol, drop, true_infos):\n",
    "    drop_start, drop_end = drop\n",
    "    # create gt segmentation and split segmentation\n",
    "    gt = vol.copy()\n",
    "    gt[drop_start:drop_end] = 0 # drop slices from gt\n",
    "    split = gt.copy()\n",
    "    offset = int(np.max(gt))+1 # relabel bot section for split\n",
    "    split[drop_end:] += offset\n",
    "\n",
    "    # measure voi before intervention\n",
    "    (split_pre, merge_pre) = voi(split, gt)\n",
    "\n",
    "    for info in true_infos:\n",
    "        # find classes merge neurites\n",
    "        top_c = info['top_class']\n",
    "        bot_c = info['bot_class'] + offset # corresponding class in relabel bot section\n",
    "        split[split == bot_c] = top_c # perform merge on split segmentation\n",
    "\n",
    "    # measure voi after intervention\n",
    "    (split_post, merge_post) = voi(split, gt)\n",
    "    # get change in voi\n",
    "    split_del, merge_del = split_post - split_pre, merge_post - merge_pre\n",
    "\n",
    "    print(f'PREFIX voi split: {split_pre}, voi merge: {merge_pre}')\n",
    "    print(f'POSTFIX voi split: {split_post}, voi merge: {merge_post}')\n",
    "    print(f'DELTA voi split: {split_del}, voi merge: {merge_del}')\n",
    "    return (split_del, merge_del)\n"
   ],
   "outputs": [],
   "metadata": {}
  }
 ],
 "metadata": {
  "interpreter": {
   "hash": "f2b173e96573ce26b8d51c138593ce0f56a0aad475fc2481b254bfaa87271cdc"
  },
  "kernelspec": {
   "display_name": "Python 3.8.8 64-bit ('base': conda)",
   "name": "python388jvsc74a57bd00374b07a6c0abfb121bb99bd4abdfbae09652ed3c4472b09c61fe7de5eaf7be9",
   "language": "python"
  },
  "language_info": {
   "codemirror_mode": {
    "name": "ipython",
    "version": 3
   },
   "file_extension": ".py",
   "mimetype": "text/x-python",
   "name": "python",
   "nbconvert_exporter": "python",
   "pygments_lexer": "ipython3",
   "version": "3.8.8"
  },
  "metadata": {
   "interpreter": {
    "hash": "ac2eaa0ea0ebeafcc7822e65e46aa9d4f966f30b695406963e145ea4a91cd4fc"
   }
  }
 },
 "nbformat": 4,
 "nbformat_minor": 2
}