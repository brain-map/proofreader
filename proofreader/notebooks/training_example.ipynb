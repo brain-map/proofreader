{
 "cells": [
  {
   "cell_type": "code",
   "execution_count": null,
   "metadata": {},
   "outputs": [],
   "source": [
    "import numpy as np\n",
    "import random\n",
    "import matplotlib.pyplot as plt\n",
    "from proofreader.utils.vis import plot_3d\n",
    "%load_ext autoreload\n",
    "%autoreload 2\n",
    "%matplotlib inline"
   ]
  },
  {
   "cell_type": "code",
   "execution_count": null,
   "metadata": {},
   "outputs": [],
   "source": [
    "from proofreader.data.cremi import prepare_cremi_vols\n",
    "\n",
    "train_vols, test_vols = prepare_cremi_vols('../../dataset/cremi')"
   ]
  },
  {
   "cell_type": "code",
   "execution_count": null,
   "metadata": {},
   "outputs": [],
   "source": [
    "from proofreader.data.splitter import NeuriteDataset\n",
    "from proofreader.data.augment import Augmentor\n",
    "num_slices = [4, 4]\n",
    "radius = 96\n",
    "context_slices = 4\n",
    "num_points = 1024\n",
    "\n",
    "augmentor = Augmentor(center=True, shuffle=True, normalize=[125, 1250, 1250])\n",
    "train_dataset = NeuriteDataset(test_vols, num_slices, radius, context_slices, num_points=num_points, torch=True, open_vol=True, verbose=False, Augmentor=augmentor)\n",
    "print(len(train_dataset))"
   ]
  },
  {
   "cell_type": "code",
   "execution_count": null,
   "metadata": {},
   "outputs": [],
   "source": [
    "from torch.utils.data import DataLoader\n",
    "import torch.nn as nn\n",
    "config = get_config('cn_context_4_aug_small')\n",
    "dataloader = DataLoader(dataset=train_dataset, batch_size=2, shuffle=True)\n",
    "model, _ ,_ = build_full_model_from_config(config.model, config.dataset)\n",
    "model = nn.DataParallel(model)\n",
    "model = load_model(model, '../../330.ckpt', map_location=torch.device('cpu'))\n",
    "\n"
   ]
  },
  {
   "cell_type": "code",
   "execution_count": null,
   "metadata": {},
   "outputs": [],
   "source": [
    "from proofreader.model.classifier import *\n",
    "with torch.no_grad():\n",
    "    count, acc = 0,0\n",
    "    for step, batch in enumerate(dataloader):\n",
    "        count += 1\n",
    "        # get batch\n",
    "        x, y = batch\n",
    "        y_hat = model(x)\n",
    "        pred = predict_class(y_hat)\n",
    "        accs = get_accuracy(y, pred)\n",
    "        print(accs)\n",
    "        acc += accs['total_acc']\n",
    "        print(round(acc/count, 3))\n"
   ]
  },
  {
   "cell_type": "code",
   "execution_count": null,
   "metadata": {},
   "outputs": [],
   "source": [
    "def plot_example(x,y):\n",
    "    lim = (-.1,.1)\n",
    "    lim = (lim,lim,lim)\n",
    "    pc = np.swapaxes(x, 0, 1)\n",
    "    label = y.item() == 1\n",
    "    plot_3d(pc, title=label, lims=lim)\n"
   ]
  },
  {
   "cell_type": "code",
   "execution_count": null,
   "metadata": {},
   "outputs": [],
   "source": [
    "from proofreader.data.augment import Augmentor\n",
    "from proofreader.utils.torch import load_model\n",
    "from proofreader.model.config import *\n",
    "from proofreader.model.classifier import *\n",
    "from torch.utils.data import DataLoader\n",
    "import torch.nn as nn\n",
    "\n",
    "config = get_config('pointnet-pre-cs2')\n",
    "ds_config = config.dataset\n",
    "\n",
    "model = PointNet(num_points=2000, classes=2, batch_norm=True)\n",
    "model = nn.DataParallel(model)\n",
    "model = load_model(model, '../../750.ckpt', map_location=torch.device('cpu'))\n",
    "\n",
    "augmentor = Augmentor(center=True, shuffle=True, normalize=[125, 1250, 1250])\n",
    "num_slices = 1\n",
    "tester = SliceDataset(test_vols, num_slices, 96, 2, \n",
    "                    num_points=2000, Augmentor=augmentor, verbose=False, drop_false=True, return_candidate_batch=True, randomize=True)\n"
   ]
  },
  {
   "cell_type": "code",
   "execution_count": null,
   "metadata": {},
   "outputs": [],
   "source": [
    "\n",
    "with torch.no_grad():\n",
    "    model.eval()\n",
    "    neurites = 0\n",
    "    seen = 0\n",
    "    seen_correct = 0\n",
    "    neurite_correct = 0\n",
    "    for step, batch in enumerate(tester):\n",
    "      \n",
    "        # get batch\n",
    "        x, y = batch\n",
    "\n",
    "        for i in range(x.shape[0]): \n",
    "            y_hat = model(x[i].unsqueeze(dim=0))\n",
    "            pred = predict_class(y_hat)\n",
    "            true = int(pred == y[i])\n",
    "            seen_correct += true\n",
    "            seen += 1\n",
    "            \n",
    "            if pred == 1 or y[i] == 1:\n",
    "                neurites += 1\n",
    "                neurite_correct += true\n",
    "                # if true == 0:\n",
    "                #     plot_example(x[i],y[i])\n",
    "                break\n",
    "\n",
    "        if step % 10 == 0:\n",
    "            print('seen acc:', seen_correct/seen, 'neurite acc:', neurite_correct/neurites)\n",
    "            print(tester.get_stats())\n",
    "        if step > 1000:\n",
    "            break\n",
    "\n",
    "print('seen acc:', seen_correct/seen)\n",
    "print('neurite acc:', neurite_correct/neurites)\n",
    "print(tester.get_stats())\n"
   ]
  },
  {
   "cell_type": "code",
   "execution_count": null,
   "metadata": {},
   "outputs": [],
   "source": [
    "import torch\n",
    "from proofreader.utils.vis import *\n",
    "import numpy as np\n",
    "\n",
    "for i in range(1,6):\n",
    "    print('NUM SLICES: ', i)\n",
    "    path = f'../../ns={i}_r=128_cs=2_np=2048_dataset_test.pt'\n",
    "    X, Y = torch.load(f'{path}')\n",
    "    lens = []\n",
    "    for b in X:\n",
    "        lens.append(len(b))\n",
    "    lens = np.array(lens)\n",
    "\n",
    "    if y[:,0][-1].item() != 1:\n",
    "        if y[:,0].count_nonzero().item() != 0:\n",
    "            print(y[:,0])\n",
    "\n",
    "\n",
    "    for i in range(1,10):\n",
    "        p = len(lens[lens==i])/len(lens)\n",
    "        print(i, p)\n",
    "\n",
    "    make_histogram(lens, bins=50)"
   ]
  },
  {
   "cell_type": "code",
   "execution_count": null,
   "metadata": {},
   "outputs": [],
   "source": [
    "i = 1\n",
    "path = f'../../ns={i}_r=128_cs=2_np=2048_dataset_test.pt'\n",
    "X, Y = torch.load(f'{path}')\n",
    "\n",
    "# reset batch id\n",
    "for i in range(len(X)):\n",
    "    y = Y[i]\n",
    "    y[:,1] = i\n",
    "\n",
    "X, Y = torch.cat(X), torch.cat(Y)\n",
    "print(X.shape, Y.shape)"
   ]
  },
  {
   "cell_type": "code",
   "execution_count": null,
   "metadata": {},
   "outputs": [],
   "source": [
    "from proofreader.utils.data import *\n",
    "X, Y = equivariant_shuffle(X,Y)"
   ]
  },
  {
   "cell_type": "code",
   "execution_count": null,
   "metadata": {},
   "outputs": [],
   "source": []
  }
 ],
 "metadata": {
  "interpreter": {
   "hash": "aee8b7b246df8f9039afb4144a1f6fd8d2ca17a180786b69acc140d282b71a49"
  },
  "kernelspec": {
   "display_name": "Python 3.9.6 64-bit",
   "name": "python3"
  },
  "language_info": {
   "codemirror_mode": {
    "name": "ipython",
    "version": 3
   },
   "file_extension": ".py",
   "mimetype": "text/x-python",
   "name": "python",
   "nbconvert_exporter": "python",
   "pygments_lexer": "ipython3",
   "version": "3.9.6"
  },
  "metadata": {
   "interpreter": {
    "hash": "ac2eaa0ea0ebeafcc7822e65e46aa9d4f966f30b695406963e145ea4a91cd4fc"
   }
  }
 },
 "nbformat": 4,
 "nbformat_minor": 2
}
