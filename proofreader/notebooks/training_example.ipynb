{
 "cells": [
  {
   "cell_type": "code",
   "execution_count": null,
   "source": [
    "import numpy as np\n",
    "import random\n",
    "import matplotlib.pyplot as plt\n",
    "from proofreader.utils.vis import plot_3d\n",
    "%load_ext autoreload\n",
    "%autoreload 2\n",
    "%matplotlib inline"
   ],
   "outputs": [],
   "metadata": {}
  },
  {
   "cell_type": "code",
   "execution_count": null,
   "source": [
    "from proofreader.data.cremi import prepare_cremi_vols\n",
    "\n",
    "train_vols, test_vols = prepare_cremi_vols('../../dataset/cremi')"
   ],
   "outputs": [],
   "metadata": {}
  },
  {
   "cell_type": "code",
   "execution_count": null,
   "source": [
    "from proofreader.data.splitter import SplitterDataset\n",
    "from proofreader.data.augment import Augmentor\n",
    "num_slices = [4, 4]\n",
    "radius = 96\n",
    "context_slices = 4\n",
    "num_points = 1024\n",
    "\n",
    "augmentor = Augmentor(center=True, shuffle=True, normalize=[125, 1250, 1250])\n",
    "train_dataset = SplitterDataset(test_vols, num_slices, radius, context_slices, num_points=num_points, torch=True, open_vol=True, verbose=False, Augmentor=augmentor)\n",
    "print(len(train_dataset))"
   ],
   "outputs": [],
   "metadata": {}
  },
  {
   "cell_type": "code",
   "execution_count": null,
   "source": [
    "from torch.utils.data import DataLoader\n",
    "import torch.nn as nn\n",
    "dataloader = DataLoader(dataset=train_dataset, batch_size=64, shuffle=True)\n",
    "model, _ ,_ = build_full_model_from_config(config.model, config.dataset)\n",
    "model = nn.DataParallel(model)\n",
    "model = load_model(model, '../../330.ckpt', map_location=torch.device('cpu'))\n",
    "\n"
   ],
   "outputs": [],
   "metadata": {}
  },
  {
   "cell_type": "code",
   "execution_count": null,
   "source": [
    "from proofreader.model.classifier import *\n",
    "with torch.no_grad():\n",
    "    count, acc = 0,0\n",
    "    for step, batch in enumerate(dataloader):\n",
    "        count += 1\n",
    "        # get batch\n",
    "        x, y = batch\n",
    "        y_hat = model(x)\n",
    "        pred = predict_class(y_hat)\n",
    "        accs = get_accuracy(y, pred)\n",
    "        print(accs)\n",
    "        acc += accs['total_acc']\n",
    "        print(round(acc/count, 3))\n"
   ],
   "outputs": [],
   "metadata": {}
  },
  {
   "cell_type": "code",
   "execution_count": null,
   "source": [
    "from proofreader.utils.vis import plot_3d\n",
    "%matplotlib widget\n",
    "num = 10\n",
    "lim = (-.1,.1)\n",
    "lim = (lim,lim,lim)\n",
    "print(lim)\n",
    "for i in range(0, num):\n",
    "    rand_i = random.randint(0, len(dataset))\n",
    "    pc, label = dataset[rand_i]\n",
    "    pc = np.swapaxes(pc, 0, 1)\n",
    "    plot_3d(pc, lims=lim)\n",
    "\n"
   ],
   "outputs": [],
   "metadata": {}
  },
  {
   "cell_type": "code",
   "execution_count": null,
   "source": [
    "\n"
   ],
   "outputs": [],
   "metadata": {}
  },
  {
   "cell_type": "code",
   "execution_count": 179,
   "source": [
    "from proofreader.data.splitter import SplitterTest\n",
    "from proofreader.data.augment import Augmentor\n",
    "from proofreader.utils.torch import load_model\n",
    "from proofreader.model.config import *\n",
    "from torch.utils.data import DataLoader\n",
    "import torch.nn as nn\n",
    "\n",
    "config = get_config('cn_context_4_aug_small')\n",
    "\n",
    "model, _ ,_ = build_full_model_from_config(config.model, config.dataset)\n",
    "model = nn.DataParallel(model)\n",
    "model = load_model(model, '../../330.ckpt', map_location=torch.device('cpu'))\n",
    "\n",
    "num_slices = [1, 4]\n",
    "radius = 96\n",
    "context_slices = 4\n",
    "num_points = 1024\n",
    "augmentor = Augmentor(center=True, shuffle=True, normalize=[125, 1250, 1250])\n",
    "tester = SplitterTest(test_vols, num_slices, radius, context_slices, num_points=num_points, Augmentor=augmentor)\n"
   ],
   "outputs": [],
   "metadata": {}
  },
  {
   "cell_type": "code",
   "execution_count": 205,
   "source": [
    "tester.test_iter(test_vols[1], model, (6,10))\n",
    "\n"
   ],
   "outputs": [
    {
     "output_type": "stream",
     "name": "stdout",
     "text": [
      "total neurites 206\n",
      "step 1: acc 0.00\n",
      "step 2: acc 0.50\n",
      "step 3: acc 0.67\n",
      "step 6: acc 0.75\n",
      "step 7: acc 0.80\n",
      "step 8: acc 0.83\n",
      "step 9: acc 0.71\n",
      "step 10: acc 0.75\n",
      "step 11: acc 0.78\n",
      "step 12: acc 0.80\n",
      "step 13: acc 0.82\n",
      "step 14: acc 0.75\n",
      "step 16: acc 0.77\n",
      "step 18: acc 0.79\n",
      "step 19: acc 0.80\n",
      "step 21: acc 0.75\n",
      "step 24: acc 0.71\n",
      "step 26: acc 0.67\n",
      "step 27: acc 0.68\n",
      "step 28: acc 0.65\n",
      "step 29: acc 0.62\n",
      "step 31: acc 0.64\n",
      "step 32: acc 0.61\n",
      "step 33: acc 0.62\n",
      "step 35: acc 0.64\n",
      "step 36: acc 0.65\n",
      "step 37: acc 0.67\n",
      "step 38: acc 0.64\n",
      "step 39: acc 0.66\n",
      "step 40: acc 0.67\n",
      "step 43: acc 0.65\n",
      "step 44: acc 0.66\n",
      "step 45: acc 0.64\n",
      "step 47: acc 0.65\n",
      "step 49: acc 0.66\n",
      "step 51: acc 0.67\n",
      "step 52: acc 0.65\n"
     ]
    },
    {
     "output_type": "error",
     "ename": "KeyboardInterrupt",
     "evalue": "",
     "traceback": [
      "\u001b[0;31m---------------------------------------------------------------------------\u001b[0m",
      "\u001b[0;31mKeyboardInterrupt\u001b[0m                         Traceback (most recent call last)",
      "\u001b[0;32m<ipython-input-205-b2f135e81bd0>\u001b[0m in \u001b[0;36m<module>\u001b[0;34m\u001b[0m\n\u001b[0;32m----> 1\u001b[0;31m \u001b[0mtester\u001b[0m\u001b[0;34m.\u001b[0m\u001b[0mtest_iter\u001b[0m\u001b[0;34m(\u001b[0m\u001b[0mtest_vols\u001b[0m\u001b[0;34m[\u001b[0m\u001b[0;36m1\u001b[0m\u001b[0;34m]\u001b[0m\u001b[0;34m,\u001b[0m \u001b[0mmodel\u001b[0m\u001b[0;34m,\u001b[0m \u001b[0;34m(\u001b[0m\u001b[0;36m6\u001b[0m\u001b[0;34m,\u001b[0m\u001b[0;36m10\u001b[0m\u001b[0;34m)\u001b[0m\u001b[0;34m)\u001b[0m\u001b[0;34m\u001b[0m\u001b[0;34m\u001b[0m\u001b[0m\n\u001b[0m\u001b[1;32m      2\u001b[0m \u001b[0;34m\u001b[0m\u001b[0m\n",
      "\u001b[0;32m~/sc/proofreader/proofreader/data/splitter.py\u001b[0m in \u001b[0;36mtest_iter\u001b[0;34m(self, vol, model, drop)\u001b[0m\n\u001b[1;32m    477\u001b[0m         \u001b[0mprint\u001b[0m\u001b[0;34m(\u001b[0m\u001b[0;34mf'total neurites {len(top_neurites)}'\u001b[0m\u001b[0;34m)\u001b[0m\u001b[0;34m\u001b[0m\u001b[0;34m\u001b[0m\u001b[0m\n\u001b[1;32m    478\u001b[0m         \u001b[0;32mfor\u001b[0m \u001b[0mstep\u001b[0m\u001b[0;34m,\u001b[0m \u001b[0mc\u001b[0m \u001b[0;32min\u001b[0m \u001b[0menumerate\u001b[0m\u001b[0;34m(\u001b[0m\u001b[0mtop_neurites\u001b[0m\u001b[0;34m)\u001b[0m\u001b[0;34m:\u001b[0m\u001b[0;34m\u001b[0m\u001b[0;34m\u001b[0m\u001b[0m\n\u001b[0;32m--> 479\u001b[0;31m             examples, labels = self.get_examples_from_top_class(\n\u001b[0m\u001b[1;32m    480\u001b[0m                 vol_relabeled, c, drop, label_map)\n\u001b[1;32m    481\u001b[0m \u001b[0;34m\u001b[0m\u001b[0m\n",
      "\u001b[0;32m~/sc/proofreader/proofreader/data/splitter.py\u001b[0m in \u001b[0;36mget_examples_from_top_class\u001b[0;34m(self, vol, c, drop, label_map)\u001b[0m\n\u001b[1;32m    566\u001b[0m             \u001b[0mcur_vol\u001b[0m\u001b[0;34m[\u001b[0m\u001b[0mnum_slices\u001b[0m\u001b[0;34m+\u001b[0m\u001b[0mtop_z_len\u001b[0m\u001b[0;34m:\u001b[0m\u001b[0;34m]\u001b[0m \u001b[0;34m=\u001b[0m \u001b[0mbot_vol_section\u001b[0m\u001b[0;34m\u001b[0m\u001b[0;34m\u001b[0m\u001b[0m\n\u001b[1;32m    567\u001b[0m \u001b[0;34m\u001b[0m\u001b[0m\n\u001b[0;32m--> 568\u001b[0;31m             \u001b[0mpc\u001b[0m \u001b[0;34m=\u001b[0m \u001b[0mself\u001b[0m\u001b[0;34m.\u001b[0m\u001b[0mconvert_volumetric_to_final\u001b[0m\u001b[0;34m(\u001b[0m\u001b[0mcur_vol\u001b[0m\u001b[0;34m)\u001b[0m\u001b[0;34m\u001b[0m\u001b[0;34m\u001b[0m\u001b[0m\n\u001b[0m\u001b[1;32m    569\u001b[0m             \u001b[0mfinal_examples\u001b[0m\u001b[0;34m[\u001b[0m\u001b[0mi\u001b[0m\u001b[0;34m]\u001b[0m \u001b[0;34m=\u001b[0m \u001b[0mpc\u001b[0m\u001b[0;34m\u001b[0m\u001b[0;34m\u001b[0m\u001b[0m\n\u001b[1;32m    570\u001b[0m             \u001b[0mlabel\u001b[0m \u001b[0;34m=\u001b[0m \u001b[0mint\u001b[0m\u001b[0;34m(\u001b[0m\u001b[0mlabel_map\u001b[0m\u001b[0;34m[\u001b[0m\u001b[0mtop_c\u001b[0m\u001b[0;34m]\u001b[0m \u001b[0;34m==\u001b[0m \u001b[0mlabel_map\u001b[0m\u001b[0;34m[\u001b[0m\u001b[0mbot_c\u001b[0m\u001b[0;34m]\u001b[0m\u001b[0;34m)\u001b[0m\u001b[0;34m\u001b[0m\u001b[0;34m\u001b[0m\u001b[0m\n",
      "\u001b[0;32m~/sc/proofreader/proofreader/data/splitter.py\u001b[0m in \u001b[0;36mconvert_volumetric_to_final\u001b[0;34m(self, vol_example)\u001b[0m\n\u001b[1;32m    602\u001b[0m \u001b[0;34m\u001b[0m\u001b[0m\n\u001b[1;32m    603\u001b[0m         \u001b[0;31m# final crop and relabel\u001b[0m\u001b[0;34m\u001b[0m\u001b[0;34m\u001b[0m\u001b[0;34m\u001b[0m\u001b[0m\n\u001b[0;32m--> 604\u001b[0;31m         \u001b[0mvol_example\u001b[0m \u001b[0;34m=\u001b[0m \u001b[0mcrop_where\u001b[0m\u001b[0;34m(\u001b[0m\u001b[0mvol_example\u001b[0m\u001b[0;34m,\u001b[0m \u001b[0mvol_example\u001b[0m \u001b[0;34m!=\u001b[0m \u001b[0;36m0\u001b[0m\u001b[0;34m)\u001b[0m\u001b[0;34m\u001b[0m\u001b[0;34m\u001b[0m\u001b[0m\n\u001b[0m\u001b[1;32m    605\u001b[0m         \u001b[0mvol_example\u001b[0m \u001b[0;34m=\u001b[0m \u001b[0mcc3d\u001b[0m\u001b[0;34m.\u001b[0m\u001b[0mconnected_components\u001b[0m\u001b[0;34m(\u001b[0m\u001b[0mvol_example\u001b[0m\u001b[0;34m)\u001b[0m\u001b[0;34m\u001b[0m\u001b[0;34m\u001b[0m\u001b[0m\n\u001b[1;32m    606\u001b[0m \u001b[0;34m\u001b[0m\u001b[0m\n",
      "\u001b[0;32m~/sc/proofreader/proofreader/utils/data.py\u001b[0m in \u001b[0;36mcrop_where\u001b[0;34m(vol, condition)\u001b[0m\n\u001b[1;32m     40\u001b[0m     \"\"\"\n\u001b[1;32m     41\u001b[0m     \u001b[0mcrop_slice\u001b[0m \u001b[0;34m=\u001b[0m \u001b[0;34m[\u001b[0m\u001b[0;34m]\u001b[0m\u001b[0;34m\u001b[0m\u001b[0;34m\u001b[0m\u001b[0m\n\u001b[0;32m---> 42\u001b[0;31m     \u001b[0;32mfor\u001b[0m \u001b[0mcord\u001b[0m \u001b[0;32min\u001b[0m \u001b[0mnp\u001b[0m\u001b[0;34m.\u001b[0m\u001b[0mwhere\u001b[0m\u001b[0;34m(\u001b[0m\u001b[0mcondition\u001b[0m\u001b[0;34m)\u001b[0m\u001b[0;34m:\u001b[0m\u001b[0;34m\u001b[0m\u001b[0;34m\u001b[0m\u001b[0m\n\u001b[0m\u001b[1;32m     43\u001b[0m         \u001b[0mamin\u001b[0m\u001b[0;34m,\u001b[0m \u001b[0mamax\u001b[0m \u001b[0;34m=\u001b[0m \u001b[0mnp\u001b[0m\u001b[0;34m.\u001b[0m\u001b[0mmin\u001b[0m\u001b[0;34m(\u001b[0m\u001b[0mcord\u001b[0m\u001b[0;34m)\u001b[0m\u001b[0;34m,\u001b[0m \u001b[0mnp\u001b[0m\u001b[0;34m.\u001b[0m\u001b[0mmax\u001b[0m\u001b[0;34m(\u001b[0m\u001b[0mcord\u001b[0m\u001b[0;34m)\u001b[0m\u001b[0;34m\u001b[0m\u001b[0;34m\u001b[0m\u001b[0m\n\u001b[1;32m     44\u001b[0m         \u001b[0mcrop_slice\u001b[0m\u001b[0;34m.\u001b[0m\u001b[0mappend\u001b[0m\u001b[0;34m(\u001b[0m\u001b[0mslice\u001b[0m\u001b[0;34m(\u001b[0m\u001b[0mamin\u001b[0m\u001b[0;34m,\u001b[0m \u001b[0mamax\u001b[0m\u001b[0;34m+\u001b[0m\u001b[0;36m1\u001b[0m\u001b[0;34m)\u001b[0m\u001b[0;34m)\u001b[0m\u001b[0;34m\u001b[0m\u001b[0;34m\u001b[0m\u001b[0m\n",
      "\u001b[0;32m<__array_function__ internals>\u001b[0m in \u001b[0;36mwhere\u001b[0;34m(*args, **kwargs)\u001b[0m\n",
      "\u001b[0;31mKeyboardInterrupt\u001b[0m: "
     ]
    }
   ],
   "metadata": {}
  },
  {
   "cell_type": "code",
   "execution_count": null,
   "source": [],
   "outputs": [],
   "metadata": {}
  }
 ],
 "metadata": {
  "interpreter": {
   "hash": "a8e73444cd85779debfbed2ff850992c15fb63378866812fd7bb614c3cbdab4a"
  },
  "kernelspec": {
   "name": "python3",
   "display_name": "Python 3.9.5 64-bit"
  },
  "language_info": {
   "name": "python",
   "version": "3.9.5",
   "mimetype": "text/x-python",
   "codemirror_mode": {
    "name": "ipython",
    "version": 3
   },
   "pygments_lexer": "ipython3",
   "nbconvert_exporter": "python",
   "file_extension": ".py"
  },
  "metadata": {
   "interpreter": {
    "hash": "ac2eaa0ea0ebeafcc7822e65e46aa9d4f966f30b695406963e145ea4a91cd4fc"
   }
  }
 },
 "nbformat": 4,
 "nbformat_minor": 2
}